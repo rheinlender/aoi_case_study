{
 "cells": [
  {
   "cell_type": "markdown",
   "metadata": {},
   "source": [
    "# Plot hovmøller diagram of leads along transect in Beaufort Sea"
   ]
  },
  {
   "cell_type": "code",
   "execution_count": null,
   "metadata": {},
   "outputs": [],
   "source": [
    "# allow plots to be interactive in the notebook\n",
    "%matplotlib notebook\n",
    "\n",
    "import numpy as np\n",
    "import datetime as dt\n",
    "import matplotlib.pyplot as plt\n",
    "import os \n",
    "import sys\n",
    "import xarray as xr\n",
    "import matplotlib.colors as colors\n",
    "import cartopy \n",
    "import cartopy.crs as ccrs\n",
    "import pyproj\n",
    "from pynextsim.projection_info import ProjectionInfo\n",
    "import matplotlib.gridspec as gridspec\n",
    "import cmocean"
   ]
  },
  {
   "cell_type": "code",
   "execution_count": null,
   "metadata": {},
   "outputs": [],
   "source": [
    "# Load data\n",
    "\n",
    "k=0 #what exp to plot\n",
    "var='hfs'\n",
    "exp = ['expt_00_wrf10km', 'expt_05_wrf_40km', 'expt_02_era5',  'expt_03_cfsr'] \n",
    "rootdir = '/cluster/work/users/rheinlender/breakup2013/WRF-exp/outputs/from_Tim/'+exp[k]+'/outputs/'\n",
    "filename='Moorings.nc'\n",
    "\n",
    "\n",
    "exp = ['wrf10'] \n",
    "rootdir = '/cluster/work/users/rheinlender/breakup2013/WRF-exp/outputs/'+exp[k]+'/'\n",
    "\n",
    "fl=rootdir+filename\n",
    "print(fl)\n",
    "    \n",
    "# use xarray to open file\n",
    "nc = xr.open_dataset(fl); \n",
    "nc"
   ]
  },
  {
   "cell_type": "code",
   "execution_count": null,
   "metadata": {},
   "outputs": [],
   "source": [
    "# Plot transect in Beaufort Sea\n",
    "\n",
    "# Create slice variables subset domain\n",
    "start_time = '2013-02-11 06:00'\n",
    "end_time = '2013-03-08 18:00'\n",
    "time_slice = slice(start_time, end_time)\n",
    "#x_slice = 50\n",
    "#y_slice = slice(90, 230)\n",
    "x_slice = 100\n",
    "y_slice = slice(190, 400)\n",
    "\n",
    "# get transect\n",
    "transect = nc[var].sel(time=time_slice, x=x_slice, y=y_slice)\n",
    "thickness = nc['sit'].sel(time=time_slice, x=x_slice, y=y_slice)\n",
    "concentration = nc['sic'].sel(time=time_slice, x=x_slice, y=y_slice)\n",
    "\n",
    "# Get times and make array of datetime objects\n",
    "vtimes = nc['time'].sel(time=time_slice).values.astype('datetime64[ms]').astype('O')\n",
    "\n",
    "# Specify y values for transect\n",
    "length = transect.sizes['y']\n",
    "yvals = np.linspace(y_slice.start, y_slice.stop,length) \n",
    "\n",
    "# PLOTTING\n",
    "plt.close('all')\n",
    "fig = plt.figure(figsize=(6, 4))\n",
    "\n",
    "# Use gridspec to help size elements of plot; small top plot and big bottom plot\n",
    "gs = gridspec.GridSpec(nrows=2, ncols=2, width_ratios=[2, 6], hspace=0.03)\n",
    "\n",
    "ax1 = fig.add_subplot(gs[0, 0])\n",
    "nc[var][0,:,:].plot.imshow(ax=ax1, cmap='rainbow', vmin=0, vmax=200, add_colorbar=False)\n",
    "ax1.set_title(\"\")\n",
    "# add line for transect\n",
    "ax1.plot([x_slice, x_slice], [y_slice.start, y_slice.stop], 'ro-')\n",
    "\n",
    "# Bottom plot for Hovmoller diagram\n",
    "ax2 = fig.add_subplot(gs[0:, 1:])\n",
    "clevs = np.arange(0, 200+10, 10)\n",
    "clevs2 = [0.6]\n",
    "cf = ax2.contourf(vtimes, yvals, transect.transpose(), clevs, cmap='rainbow', extend='max')\n",
    "cs = ax2.contour(vtimes, yvals, thickness.transpose(), clevs2, colors='black', linewidths=1)\n",
    "\n",
    "cbar = plt.colorbar(cf, orientation='vertical', pad=0.04, aspect=50, extend='max')\n",
    "cbar.set_label('$\\mathrm{W \\: m^{-2}}$')\n",
    "\n",
    "# rotate xlabels\n",
    "plt.xticks(rotation=45)\n",
    "\n",
    "ax2.set_ylabel(\"y\")\n",
    "ax2.set_title(exp[k])\n",
    "\n",
    "# save figure\n",
    "outpath_plots = '/cluster/home/rheinlender/projects/aoi_case_study/python/plots/wrf/'\n",
    "figname = outpath_plots + var + 'Transect_20130211-20130308_' + exp[k] + '.png'\n",
    "fig.savefig(figname, dpi=150, bbox_inches='tight')"
   ]
  }
 ],
 "metadata": {
  "kernelspec": {
   "display_name": "Python 3",
   "language": "python",
   "name": "python3"
  },
  "language_info": {
   "codemirror_mode": {
    "name": "ipython",
    "version": 3
   },
   "file_extension": ".py",
   "mimetype": "text/x-python",
   "name": "python",
   "nbconvert_exporter": "python",
   "pygments_lexer": "ipython3",
   "version": "3.6.11"
  }
 },
 "nbformat": 4,
 "nbformat_minor": 4
}
