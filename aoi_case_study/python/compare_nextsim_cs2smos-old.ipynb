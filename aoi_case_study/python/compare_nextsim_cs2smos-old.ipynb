{
 "cells": [
  {
   "cell_type": "markdown",
   "metadata": {},
   "source": [
    "Compare time- and spatially averaged NextSim model output to CS2SMOS before the ice break-up occurs (i.e. start-Feb 2013)"
   ]
  },
  {
   "cell_type": "code",
   "execution_count": null,
   "metadata": {},
   "outputs": [],
   "source": [
    "# allow plots to be interactive in the notebook\n",
    "%matplotlib notebook\n",
    "\n",
    "import numpy as np\n",
    "import datetime as dt\n",
    "import pynextsim.openers as pnops\n",
    "import mod_netcdf_utils as mnu\n",
    "import pynextsim.gridding as png\n",
    "from pynextsim.netcdf_list import NetcdfList\n",
    "from pynextsim.irregular_grid_interpolator import IrregularGridInterpolator\n",
    "import matplotlib.pyplot as plt\n",
    "from pynextsim.nextsim_bin import NextsimBin as nb\n",
    "\n",
    "import os \n",
    "import sys\n",
    "\n",
    "import matplotlib.colors as colors"
   ]
  },
  {
   "cell_type": "code",
   "execution_count": null,
   "metadata": {},
   "outputs": [],
   "source": [
    "outpath = 'data/'\n",
    "outpath_plots = 'plots/'\n",
    "\n",
    "# specify model output directory\n",
    "fl = '/cluster/work/users/rheinlender/breakup2013/outputs/20121115'\n",
    "\n",
    "# create time array for fetching data\n",
    "start_date=dt.datetime(2013,1,1,1,30)\n",
    "deltat=3    # 3-hour output frequency\n",
    "tintv = int(24/deltat)    # time interval 24 hours, end date 2013-02-02 \n",
    "\n",
    "date_list = [start_date + dt.timedelta(hours=3*x) for x in range(0, tintv)]\n",
    "print(date_list)    \n",
    "\n",
    "dto = dt.datetime(2013,2,1)\n",
    "\n"
   ]
  },
  {
   "cell_type": "code",
   "execution_count": null,
   "metadata": {},
   "outputs": [],
   "source": [
    "# open Morrings from Nextsim output\n",
    "\n",
    "opener_moorings = pnops.OpenerNextsimMoorings(fl)\n",
    "#moorings = NetcdfList(['/cluster/work/users/rheinlender/breakup2013/outputs/20121115/Moorings_2013m02.nc'])\n",
    "moorings = NetcdfList(['/cluster/work/users/rheinlender/breakup2013/outputs/breakup2013.ERA5.r10/Moorings_2013m01.nc'])\n",
    "\n",
    "# prepare input \n",
    "nx,ny = moorings.get_var(start_date, 'Thickness').shape\n",
    "nt = len(date_list)\n",
    "print(nt,nx,ny)\n",
    "\n",
    "nsit = np.zeros((nt,nx,ny))\n",
    "nsic = np.zeros((nt,nx,ny))\n",
    "\n",
    "# get thickness for speficied dates\n",
    "for n in range(len(date_list)):\n",
    "    nsit[n, :,:] = moorings.get_var(date_list[n], 'Thickness') # get nextsim ice thickness\n",
    "    nsic[n,:,:] =  moorings.get_var(date_list[n], 'Concentration') "
   ]
  },
  {
   "cell_type": "code",
   "execution_count": null,
   "metadata": {},
   "outputs": [],
   "source": [
    "# calculate daily average thickness\n",
    "\n",
    "nsit_ave = nsit.mean(axis=0) # average along time dimension\n",
    "nsic_ave = nsic.mean(axis=0) # average along time dimension\n"
   ]
  },
  {
   "cell_type": "code",
   "execution_count": null,
   "metadata": {},
   "outputs": [],
   "source": [
    "# Compare thickness at start_date and end_date to make sure they are not equal \n",
    "fig, ax = plt.subplots(ncols=3,figsize=(7,3))\n",
    "\n",
    "ax[0].imshow(nsit[0,:,:])\n",
    "im1=ax[1].imshow(nsit[-1,:,:], vmax=3.5)\n",
    "obj=ax[2].imshow(nsit[-1,:,:]-nsit[0,:,:], vmin=-.5, vmax=.5, cmap='RdBu_r')\n",
    "fig.colorbar(obj)\n",
    "fig.colorbar(im1, ax=ax[1],  orientation=\"horizontal\")"
   ]
  },
  {
   "cell_type": "code",
   "execution_count": null,
   "metadata": {},
   "outputs": [],
   "source": [
    "# get ice thickness from cs2smos on neXtSIM mesh elements\n",
    "\n",
    "\n",
    "\n",
    "obs_inpath = '/cluster/projects/nn2993k/sim/data/CS2_SMOS_v2.0/'\n",
    "#obs_file = obs_inpath + 'awi-cs2smos-l4-sithick-cryosat2_smos_merged-rep-nh25km_ease2-20130128_20130203-fv2p0.nc'\n",
    "obs_file = obs_inpath + 'awi-cs2smos-l4-sithick-cryosat2_smos_merged-rep-nh25km_ease2-20121231_20130106-fv2p0.nc'\n",
    "\n",
    "o = pnops.OpenerCs2SmosThick()\n",
    "\n",
    "bbox = moorings.file_objects[0].get_bbox(o.projection.pyproj)\n",
    "\n",
    "# Fix - variable names to be consistent with nc file  \n",
    "o.variables['Thickness'].name = 'analysis_ice_thickness'\n",
    "o.variables['Thickness_Uncertainty'].name = 'analysis_thickness_unc'\n",
    "o.variables['Concentration'].name = 'ice_conc'\n",
    "\n",
    "nci_obs = mnu.nc_getinfo(obs_file)\n",
    "obs_grid = png.Grid.init_from_nc_getinfo(nci_obs, projection=o.projection, bbox=bbox)    #cs2smos grid\n",
    "obs_vars = obs_grid.get_external_data(\n",
    "                o.variables,\n",
    "                start_date,\n",
    "                nci=nci_obs,\n",
    "                data_on_same_grid=True, #we always use the obs grid\n",
    "                allow_missing=True)\n",
    "osit = obs_vars['Thickness']\n",
    "osit.shape\n"
   ]
  },
  {
   "cell_type": "code",
   "execution_count": null,
   "metadata": {},
   "outputs": [],
   "source": [
    "# plot observed ice thickness on native grid\n",
    "fig = plt.figure(dpi=150, figsize=(6,6))\n",
    "ax = fig.add_subplot(1, 1, 1)\n",
    "c=ax.imshow(osit)\n",
    "\n",
    "cont=ax.contour(obs_vars['Concentration'], levels=[0.3], colors='r')\n",
    "fig.colorbar(c, ax=ax)\n",
    "ax.set_title('CS2SMOS Thickness')\n"
   ]
  },
  {
   "cell_type": "code",
   "execution_count": null,
   "metadata": {},
   "outputs": [],
   "source": [
    "# interpolate model grid to observational grid (NB: slow)\n",
    "\n",
    "lon, lat = moorings.file_objects[0].get_lonlat() \n",
    "xy_mod = obs_grid.projection.pyproj(lon, lat)    #model grid\n",
    "irreg_grid_interp = IrregularGridInterpolator(*xy_mod, *obs_grid.xy)\n",
    "print('done')"
   ]
  },
  {
   "cell_type": "code",
   "execution_count": null,
   "metadata": {},
   "outputs": [],
   "source": [
    "# get model data on observational grid\n",
    "\n",
    "nsiti = irreg_grid_interp.interp_field(nsit_ave)\n",
    "nsici = irreg_grid_interp.interp_field(nsic_ave)\n"
   ]
  },
  {
   "cell_type": "code",
   "execution_count": null,
   "metadata": {},
   "outputs": [],
   "source": [
    "# Plot Mooring (or other nc data) using cartopy\n",
    "\n",
    "from cartopy import config\n",
    "import cartopy.crs as ccrs\n",
    "import pyproj\n",
    "\n",
    "plt.close('all')\n",
    "\n",
    "# get x and y coordinates from observation grid\n",
    "x=obs_grid.xy[0]\n",
    "y=obs_grid.xy[1]\n",
    "\n",
    "# get projection info from model\n",
    "mproj = pyproj.Proj(moorings.file_objects[0].proj_info.proj4_string)\n",
    "\n",
    "# get bounding box from model (i.e. small_arctic_10km)\n",
    "img_extent = moorings.file_objects[0].get_bbox(mproj)\n",
    "\n",
    "img_extent = bbox    #get from bbox\n",
    "\n",
    "# make discrete colormap\n",
    "levels = np.arange(0., 4., .5)\n",
    "bounds=np.linspace(0,4,9)\n",
    "norm = colors.BoundaryNorm(boundaries=bounds, ncolors=256)\n",
    "\n",
    "fig = plt.figure(figsize=(10,4))\n",
    "\n",
    "# observation\n",
    "ax1 = plt.subplot(1, 2, 1, projection=ccrs.NorthPolarStereo(central_longitude=0))\n",
    "plt.title('CS2SMOS')\n",
    "\n",
    "ax1.coastlines(resolution='110m', linewidth=0.5)\n",
    "ax1.gridlines(linewidth=0.5, alpha=0.5, linestyle='--')\n",
    "ax1.set_extent(img_extent, crs=ccrs.NorthPolarStereo())\n",
    "\n",
    "cs1=ax1.contourf(osit, origin='upper', extent=img_extent, levels=levels,\n",
    "               transform=ccrs.NorthPolarStereo())\n",
    "\n",
    "line_c=ax1.contour(x, y, obs_vars['Concentration'],colors=['red'], levels=[0.3], \n",
    "               transform=ccrs.NorthPolarStereo())\n",
    "# model\n",
    "ax2 = plt.subplot(1, 2, 2, projection=ccrs.NorthPolarStereo(central_longitude=0))\n",
    "plt.title('NextSim_r10.ERA5')\n",
    "\n",
    "ax2.coastlines(resolution='110m', linewidth=0.5)\n",
    "ax2.gridlines(linewidth=0.5, alpha=0.5, linestyle='--')\n",
    "ax2.set_extent(img_extent, crs=ccrs.NorthPolarStereo())\n",
    "\n",
    "cs2=ax2.contourf(nsiti, origin='upper', extent=img_extent, levels=levels, \n",
    "               transform=ccrs.NorthPolarStereo())\n",
    "\n",
    "line_c2=ax2.contour(x, y, nsici,colors=['red'], levels=[0.3], \n",
    "               transform=ccrs.NorthPolarStereo())\n",
    "\n",
    "fig.suptitle(start_date.strftime('%Y-%b-%d'))\n",
    "plt.colorbar(cs2, ax=ax2, fraction=0.046, pad=0.04, label='[m]')\n",
    "\n",
    "plt.subplots_adjust(wspace=0, hspace=0)\n",
    "plt.show()\n",
    "\n",
    "#fig.savefig(outpath_plots+'sit_'+ start_date.strftime('%Y-%b-%d') + '_cs2smos_nextsim.r10.era5.png',\n",
    "#            bbox_inches='tight')"
   ]
  },
  {
   "cell_type": "code",
   "execution_count": null,
   "metadata": {},
   "outputs": [],
   "source": [
    "levels = np.arange(0., 4., .5)\n",
    "\n",
    "levels"
   ]
  },
  {
   "cell_type": "code",
   "execution_count": null,
   "metadata": {},
   "outputs": [],
   "source": [
    "# Plot Mooring (or other nc data) using cartopy\n",
    "# using pcolormesh\n",
    "\n",
    "from cartopy import config\n",
    "import cartopy.crs as ccrs\n",
    "import pyproj\n",
    "\n",
    "plt.close('all')\n",
    "\n",
    "\n",
    "# get projection info from model\n",
    "mproj = pyproj.Proj(moorings.file_objects[0].proj_info.proj4_string)\n",
    "\n",
    "# get bounding box from model (i.e. small_arctic_10km)\n",
    "bbox = moorings.file_objects[0].get_bbox(mproj)\n",
    "\n",
    "# define mesh\n",
    "dx = obs_grid.dx\n",
    "dy = obs_grid.dy\n",
    "\n",
    "x = np.arange(np.min(obs_grid.xy[0]), np.max(obs_grid.xy[0]), +dx)\n",
    "y = np.arange(np.max(obs_grid.xy[1]), np.min(obs_grid.xy[1]), -dy)\n",
    "\n",
    "x.shape, y.shape, nsiti.shape\n",
    "\n",
    "# plot the underlying map projection\n",
    "fig = plt.figure(figsize=(4, 4))\n",
    "ax = plt.axes(projection=ccrs.NorthPolarStereo(central_longitude=0))\n",
    "plt.title('some title\\n'\n",
    "          'timestr')\n",
    "\n",
    "cs = ax.coastlines(resolution='110m', linewidth=0.5)\n",
    "\n",
    "ax.gridlines(linewidth=0.5, alpha=0.5, linestyle='--')\n",
    "ax.set_extent([-180, 180, 68, 90], crs=ccrs.PlateCarree())\n",
    "\n",
    "# add the image. \"origin\" is set to the upper left corner\n",
    "cs=ax.pcolormesh(x,y,nsiti, transform=ccrs.NorthPolarStereo(),  vmin=0, vmax=4)\n",
    "fig.colorbar(cs, ax=ax)"
   ]
  },
  {
   "cell_type": "code",
   "execution_count": null,
   "metadata": {},
   "outputs": [],
   "source": [
    "start_date.strftime('%Y-%b-%d')\n",
    "\n"
   ]
  },
  {
   "cell_type": "code",
   "execution_count": null,
   "metadata": {},
   "outputs": [],
   "source": []
  },
  {
   "cell_type": "code",
   "execution_count": null,
   "metadata": {},
   "outputs": [],
   "source": []
  },
  {
   "cell_type": "code",
   "execution_count": null,
   "metadata": {},
   "outputs": [],
   "source": []
  },
  {
   "cell_type": "code",
   "execution_count": null,
   "metadata": {},
   "outputs": [],
   "source": [
    "\n"
   ]
  },
  {
   "cell_type": "code",
   "execution_count": null,
   "metadata": {},
   "outputs": [],
   "source": []
  },
  {
   "cell_type": "code",
   "execution_count": null,
   "metadata": {},
   "outputs": [],
   "source": []
  }
 ],
 "metadata": {
  "kernelspec": {
   "display_name": "Python 3",
   "language": "python",
   "name": "python3"
  },
  "language_info": {
   "codemirror_mode": {
    "name": "ipython",
    "version": 3
   },
   "file_extension": ".py",
   "mimetype": "text/x-python",
   "name": "python",
   "nbconvert_exporter": "python",
   "pygments_lexer": "ipython3",
   "version": "3.6.11"
  }
 },
 "nbformat": 4,
 "nbformat_minor": 4
}
