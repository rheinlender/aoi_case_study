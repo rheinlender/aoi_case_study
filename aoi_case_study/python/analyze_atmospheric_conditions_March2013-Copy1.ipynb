{
 "cells": [
  {
   "cell_type": "markdown",
   "metadata": {},
   "source": [
    "# Plotting Sea Level Pressure and Winds for March 2013 \n",
    "\n",
    "Get the data from atmospheric forcing , i.e. ERA5 or WARF\n",
    "\n",
    "- Was the atmospheric conditions in March 2013 anomalous compared to previous years? Compare with climatology"
   ]
  },
  {
   "cell_type": "code",
   "execution_count": 7,
   "metadata": {},
   "outputs": [],
   "source": [
    "import os\n",
    "import numpy as np\n",
    "from string import Template\n",
    "import datetime as dt\n",
    "from matplotlib import pyplot as plt\n",
    "\n",
    "from pynextsim.gmshlib import GmshMesh\n",
    "from pynextsim.gridding import Grid\n",
    "from pynextsim.openers import OpenerVariable, Opener\n",
    "\n",
    "import mod_netcdf_utils as mnu\n",
    "from pynextsim.netcdf_list import NetcdfList\n"
   ]
  },
  {
   "cell_type": "code",
   "execution_count": 8,
   "metadata": {
    "scrolled": true
   },
   "outputs": [],
   "source": [
    "# Define classes\n",
    "\n",
    "class GmshMeshX(GmshMesh):\n",
    "    def get_grid(self, resolution=10000):\n",
    "        \"\"\"\n",
    "        Parameters:\n",
    "        -----------\n",
    "        resolution : float\n",
    "            resolution in metres\n",
    "\n",
    "        Returns:\n",
    "        --------\n",
    "        grid : pynextsim.gridding.Grid\n",
    "        \"\"\"\n",
    "        return Grid.init_from_grid_params(\n",
    "                dict(\n",
    "                    xmin = self.boundary.xmin,\n",
    "                    xmax = self.boundary.xmax,\n",
    "                    ymin = self.boundary.ymin,\n",
    "                    ymax = self.boundary.ymax,\n",
    "                    nx = int(np.ceil((self.boundary.xmax - self.boundary.xmin)/resolution)),\n",
    "                    ny = int(np.ceil((self.boundary.ymax - self.boundary.ymin)/resolution)),\n",
    "                    ))\n",
    "\n",
    "class OpenerEra5(Opener):\n",
    "\n",
    "    name = 'ERA5'\n",
    "    name_mask = Template('ERA5/ERA5_${varname}_y%Y.nc')\n",
    "    varname = 'Atm. forcing'\n",
    "    variables = dict()\n",
    "    averaging_period = 0 # snapshots\n",
    "\n",
    "    def __init__(self, varname):\n",
    "        self.name_mask = self.name_mask.safe_substitute(dict(varname=varname))\n",
    "        self.varname = varname\n",
    "        self.variables = {\n",
    "                varname : OpenerVariable(varname), #can set any scale and offset here\n",
    "                }"
   ]
  },
  {
   "cell_type": "code",
   "execution_count": 4,
   "metadata": {},
   "outputs": [],
   "source": [
    "# get grid from Nextsim\n",
    "dto=dt.datetime(2013,2,1)\n",
    "\n",
    "# directory containing nextsim moorings\n",
    "path_in = '/cluster/work/users/rheinlender/breakup2013/outputs/breakup2013.ERA5.r10/Moorings_2013m02.nc'\n",
    "\n",
    "\n",
    "moorings = NetcdfList([path_in])\n"
   ]
  },
  {
   "cell_type": "code",
   "execution_count": 5,
   "metadata": {},
   "outputs": [
    {
     "name": "stdout",
     "output_type": "stream",
     "text": [
      "Reading /cluster/projects/nn2993k/sim/mesh/medium_arctic_10km.msh...\n",
      "\n",
      "Finished reading /cluster/projects/nn2993k/sim/mesh/medium_arctic_10km.msh.\n",
      "\n"
     ]
    }
   ],
   "source": [
    "#should be inputs\n",
    "varname = 't2m'\n",
    "dto = dt.datetime(2013,1,1)\n",
    "meshfile = os.path.join(os.getenv('NEXTSIM_MESH_DIR'), 'medium_arctic_10km.msh')\n",
    "plot_res = 10 #km\n",
    "\n",
    "# get target grid\n",
    "gmsh = GmshMeshX(meshfile)\n",
    "grid = gmsh.get_grid(resolution=plot_res*1000)"
   ]
  },
  {
   "cell_type": "code",
   "execution_count": 9,
   "metadata": {},
   "outputs": [
    {
     "ename": "KeyboardInterrupt",
     "evalue": "",
     "output_type": "error",
     "traceback": [
      "\u001b[0;31m---------------------------------------------------------------------------\u001b[0m",
      "\u001b[0;31mKeyboardInterrupt\u001b[0m                         Traceback (most recent call last)",
      "\u001b[0;32m<ipython-input-9-dd7cb44418a9>\u001b[0m in \u001b[0;36m<module>\u001b[0;34m\u001b[0m\n\u001b[1;32m      6\u001b[0m \u001b[0mop\u001b[0m \u001b[0;34m=\u001b[0m \u001b[0mOpenerEra5\u001b[0m\u001b[0;34m(\u001b[0m\u001b[0mvarname\u001b[0m\u001b[0;34m)\u001b[0m\u001b[0;34m\u001b[0m\u001b[0;34m\u001b[0m\u001b[0m\n\u001b[1;32m      7\u001b[0m \u001b[0mf\u001b[0m \u001b[0;34m=\u001b[0m \u001b[0mop\u001b[0m\u001b[0;34m.\u001b[0m\u001b[0mfind\u001b[0m\u001b[0;34m(\u001b[0m\u001b[0mdto\u001b[0m\u001b[0;34m)\u001b[0m \u001b[0;31m# filename for date if it exists\u001b[0m\u001b[0;34m\u001b[0m\u001b[0;34m\u001b[0m\u001b[0m\n\u001b[0;32m----> 8\u001b[0;31m \u001b[0mnci\u001b[0m \u001b[0;34m=\u001b[0m \u001b[0mmnu\u001b[0m\u001b[0;34m.\u001b[0m\u001b[0mnc_getinfo\u001b[0m\u001b[0;34m(\u001b[0m\u001b[0mf\u001b[0m\u001b[0;34m)\u001b[0m\u001b[0;34m\u001b[0m\u001b[0;34m\u001b[0m\u001b[0m\n\u001b[0m\u001b[1;32m      9\u001b[0m \u001b[0mtind\u001b[0m \u001b[0;34m=\u001b[0m \u001b[0mnci\u001b[0m\u001b[0;34m.\u001b[0m\u001b[0mdatetimes\u001b[0m\u001b[0;34m.\u001b[0m\u001b[0mindex\u001b[0m\u001b[0;34m(\u001b[0m\u001b[0mdto\u001b[0m\u001b[0;34m)\u001b[0m\u001b[0;34m\u001b[0m\u001b[0;34m\u001b[0m\u001b[0m\n\u001b[1;32m     10\u001b[0m \u001b[0;34m\u001b[0m\u001b[0m\n",
      "\u001b[0;32m~/src/nextsim-tools/swarp_funs/mod_netcdf_utils.py\u001b[0m in \u001b[0;36m__init__\u001b[0;34m(self, ncfil, time_index, lonlat_file, timedep_lonlat)\u001b[0m\n\u001b[1;32m    324\u001b[0m \u001b[0;34m\u001b[0m\u001b[0m\n\u001b[1;32m    325\u001b[0m         \u001b[0;31m# time info:\u001b[0m\u001b[0;34m\u001b[0m\u001b[0;34m\u001b[0m\u001b[0;34m\u001b[0m\u001b[0m\n\u001b[0;32m--> 326\u001b[0;31m         \u001b[0mself\u001b[0m\u001b[0;34m.\u001b[0m\u001b[0m_set_time_info\u001b[0m\u001b[0;34m(\u001b[0m\u001b[0mnc\u001b[0m\u001b[0;34m)\u001b[0m\u001b[0;34m\u001b[0m\u001b[0;34m\u001b[0m\u001b[0m\n\u001b[0m\u001b[1;32m    327\u001b[0m \u001b[0;34m\u001b[0m\u001b[0m\n\u001b[1;32m    328\u001b[0m         \u001b[0;31m# get global netcdf attributes\u001b[0m\u001b[0;34m\u001b[0m\u001b[0;34m\u001b[0m\u001b[0;34m\u001b[0m\u001b[0m\n",
      "\u001b[0;32m~/src/nextsim-tools/swarp_funs/mod_netcdf_utils.py\u001b[0m in \u001b[0;36m_set_time_info\u001b[0;34m(self, nc)\u001b[0m\n\u001b[1;32m    480\u001b[0m         \u001b[0mself\u001b[0m\u001b[0;34m.\u001b[0m\u001b[0mtime_converter\u001b[0m \u001b[0;34m=\u001b[0m \u001b[0mget_time_converter\u001b[0m\u001b[0;34m(\u001b[0m\u001b[0mtime\u001b[0m\u001b[0;34m)\u001b[0m\u001b[0;34m\u001b[0m\u001b[0;34m\u001b[0m\u001b[0m\n\u001b[1;32m    481\u001b[0m \u001b[0;34m\u001b[0m\u001b[0m\n\u001b[0;32m--> 482\u001b[0;31m         \u001b[0marr\u001b[0m             \u001b[0;34m=\u001b[0m \u001b[0mtime\u001b[0m\u001b[0;34m[\u001b[0m\u001b[0;34m:\u001b[0m\u001b[0;34m]\u001b[0m \u001b[0;31m#time values\u001b[0m\u001b[0;34m\u001b[0m\u001b[0;34m\u001b[0m\u001b[0m\n\u001b[0m\u001b[1;32m    483\u001b[0m         \u001b[0mself\u001b[0m\u001b[0;34m.\u001b[0m\u001b[0mdatetimes\u001b[0m  \u001b[0;34m=\u001b[0m \u001b[0;34m[\u001b[0m\u001b[0;34m]\u001b[0m\u001b[0;34m\u001b[0m\u001b[0;34m\u001b[0m\u001b[0m\n\u001b[1;32m    484\u001b[0m         \u001b[0mself\u001b[0m\u001b[0;34m.\u001b[0m\u001b[0mtimevalues\u001b[0m \u001b[0;34m=\u001b[0m \u001b[0;34m[\u001b[0m\u001b[0;34m]\u001b[0m\u001b[0;34m\u001b[0m\u001b[0;34m\u001b[0m\u001b[0m\n",
      "\u001b[0;32mnetCDF4/_netCDF4.pyx\u001b[0m in \u001b[0;36mnetCDF4._netCDF4.Variable.__getitem__\u001b[0;34m()\u001b[0m\n",
      "\u001b[0;32mnetCDF4/_netCDF4.pyx\u001b[0m in \u001b[0;36mnetCDF4._netCDF4.Variable._toma\u001b[0;34m()\u001b[0m\n",
      "\u001b[0;32m~/packages/miniconda3/envs/pynextsim/lib/python3.6/site-packages/numpy/core/_methods.py\u001b[0m in \u001b[0;36m_any\u001b[0;34m(a, axis, dtype, out, keepdims)\u001b[0m\n\u001b[1;32m     51\u001b[0m     \u001b[0;32mreturn\u001b[0m \u001b[0mumr_prod\u001b[0m\u001b[0;34m(\u001b[0m\u001b[0ma\u001b[0m\u001b[0;34m,\u001b[0m \u001b[0maxis\u001b[0m\u001b[0;34m,\u001b[0m \u001b[0mdtype\u001b[0m\u001b[0;34m,\u001b[0m \u001b[0mout\u001b[0m\u001b[0;34m,\u001b[0m \u001b[0mkeepdims\u001b[0m\u001b[0;34m,\u001b[0m \u001b[0minitial\u001b[0m\u001b[0;34m,\u001b[0m \u001b[0mwhere\u001b[0m\u001b[0;34m)\u001b[0m\u001b[0;34m\u001b[0m\u001b[0;34m\u001b[0m\u001b[0m\n\u001b[1;32m     52\u001b[0m \u001b[0;34m\u001b[0m\u001b[0m\n\u001b[0;32m---> 53\u001b[0;31m \u001b[0;32mdef\u001b[0m \u001b[0m_any\u001b[0m\u001b[0;34m(\u001b[0m\u001b[0ma\u001b[0m\u001b[0;34m,\u001b[0m \u001b[0maxis\u001b[0m\u001b[0;34m=\u001b[0m\u001b[0;32mNone\u001b[0m\u001b[0;34m,\u001b[0m \u001b[0mdtype\u001b[0m\u001b[0;34m=\u001b[0m\u001b[0;32mNone\u001b[0m\u001b[0;34m,\u001b[0m \u001b[0mout\u001b[0m\u001b[0;34m=\u001b[0m\u001b[0;32mNone\u001b[0m\u001b[0;34m,\u001b[0m \u001b[0mkeepdims\u001b[0m\u001b[0;34m=\u001b[0m\u001b[0;32mFalse\u001b[0m\u001b[0;34m)\u001b[0m\u001b[0;34m:\u001b[0m\u001b[0;34m\u001b[0m\u001b[0;34m\u001b[0m\u001b[0m\n\u001b[0m\u001b[1;32m     54\u001b[0m     \u001b[0;32mreturn\u001b[0m \u001b[0mumr_any\u001b[0m\u001b[0;34m(\u001b[0m\u001b[0ma\u001b[0m\u001b[0;34m,\u001b[0m \u001b[0maxis\u001b[0m\u001b[0;34m,\u001b[0m \u001b[0mdtype\u001b[0m\u001b[0;34m,\u001b[0m \u001b[0mout\u001b[0m\u001b[0;34m,\u001b[0m \u001b[0mkeepdims\u001b[0m\u001b[0;34m)\u001b[0m\u001b[0;34m\u001b[0m\u001b[0;34m\u001b[0m\u001b[0m\n\u001b[1;32m     55\u001b[0m \u001b[0;34m\u001b[0m\u001b[0m\n",
      "\u001b[0;31mKeyboardInterrupt\u001b[0m: "
     ]
    }
   ],
   "source": [
    "#scalar field\n",
    "dto = dt.datetime(2013,2,1)\n",
    "varname='t2m'\n",
    "\n",
    "# get source file\n",
    "op = OpenerEra5(varname)\n",
    "f = op.find(dto) # filename for date if it exists\n",
    "nci = mnu.nc_getinfo(f)\n",
    "tind = nci.datetimes.index(dto)\n",
    "\n",
    "\n",
    "#data = grid.get_netcdf_data(nci, vlist=[varname], time_index=tind)[varname]\n",
    "#fig, ax = grid.plot(data, cmap='viridis', add_landmask=False)\n",
    "#ax.coastlines(resolution='50m')\n",
    "#fig.show()\n",
    "\n",
    "op.variables"
   ]
  },
  {
   "cell_type": "code",
   "execution_count": null,
   "metadata": {},
   "outputs": [],
   "source": [
    "t2=op.variables['t2m']\n",
    "t2"
   ]
  },
  {
   "cell_type": "code",
   "execution_count": null,
   "metadata": {},
   "outputs": [],
   "source": [
    "\n",
    "    #wind\n",
    "    data = []\n",
    "    for varname in ['u10', 'v10']:\n",
    "        # get source file\n",
    "        op = OpenerEra5(varname)\n",
    "        f = op.find(dto) # filename for date if it exists\n",
    "        nci = mnu.nc_getinfo(f)\n",
    "        tind = nci.datetimes.index(dto)\n",
    "        data += [grid.get_netcdf_data(nci, vlist=[varname], time_index=tind)[varname]]\n",
    "\n",
    "    spd = np.hypot(*data) \n",
    "    fig, ax = grid.plot(spd, cmap='viridis', add_landmask=False)\n",
    "    ax.coastlines(resolution='50m')\n",
    "    x = grid.xy[0][::10,::10] \n",
    "    y = grid.xy[1][::10,::10]\n",
    "    u = data[0][::10,::10]\n",
    "    v = data[1][::10,::10]\n",
    "    u, v = nsl.rotate_lonlat2xy(grid.projection, x, y, u, v)\n",
    "    ax.quiver(x, y, u, v, units='xy', angles='xy', color='r')"
   ]
  },
  {
   "cell_type": "code",
   "execution_count": 16,
   "metadata": {},
   "outputs": [],
   "source": [
    "gmsh.get_grid?\n"
   ]
  }
 ],
 "metadata": {
  "kernelspec": {
   "display_name": "Python 3",
   "language": "python",
   "name": "python3"
  },
  "language_info": {
   "codemirror_mode": {
    "name": "ipython",
    "version": 3
   },
   "file_extension": ".py",
   "mimetype": "text/x-python",
   "name": "python",
   "nbconvert_exporter": "python",
   "pygments_lexer": "ipython3",
   "version": "3.6.11"
  }
 },
 "nbformat": 4,
 "nbformat_minor": 4
}
