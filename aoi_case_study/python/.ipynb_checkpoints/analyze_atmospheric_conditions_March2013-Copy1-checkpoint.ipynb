{
 "cells": [
  {
   "cell_type": "markdown",
   "metadata": {},
   "source": [
    "# Plotting Sea Level Pressure and Winds for March 2013 \n",
    "\n",
    "Get the data from atmospheric forcing , i.e. ERA5 or WARF\n",
    "\n",
    "- Was the atmospheric conditions in March 2013 anomalous compared to previous years? Compare with climatology"
   ]
  },
  {
   "cell_type": "code",
   "execution_count": 29,
   "metadata": {},
   "outputs": [],
   "source": [
    "import os\n",
    "import numpy as np\n",
    "from string import Template\n",
    "import datetime as dt\n",
    "from matplotlib import pyplot as plt\n",
    "\n",
    "from pynextsim.gmshlib import GmshMesh\n",
    "from pynextsim.gridding import Grid\n",
    "import pynextsim.openers as pnops\n",
    "import mod_netcdf_utils as mnu\n",
    "from pynextsim.netcdf_list import NetcdfList\n"
   ]
  },
  {
   "cell_type": "code",
   "execution_count": 2,
   "metadata": {
    "scrolled": true
   },
   "outputs": [],
   "source": [
    "# Define classes\n",
    "\n",
    "class GmshMeshX(GmshMesh):\n",
    "    def get_grid(self, resolution=10000):\n",
    "        \"\"\"\n",
    "        Parameters:\n",
    "        -----------\n",
    "        resolution : float\n",
    "            resolution in metres\n",
    "\n",
    "        Returns:\n",
    "        --------\n",
    "        grid : pynextsim.gridding.Grid\n",
    "        \"\"\"\n",
    "        return Grid.init_from_grid_params(\n",
    "                dict(\n",
    "                    xmin = self.boundary.xmin,\n",
    "                    xmax = self.boundary.xmax,\n",
    "                    ymin = self.boundary.ymin,\n",
    "                    ymax = self.boundary.ymax,\n",
    "                    nx = int(np.ceil((self.boundary.xmax - self.boundary.xmin)/resolution)),\n",
    "                    ny = int(np.ceil((self.boundary.ymax - self.boundary.ymin)/resolution)),\n",
    "                    ))\n",
    "\n",
    "class OpenerEra5(pnops.Opener):\n",
    "\n",
    "    name = 'ERA5'\n",
    "    name_mask = Template('ERA5/ERA5_${varname}_y%Y.nc')\n",
    "    varname = 'Atm. forcing'\n",
    "    variables = dict()\n",
    "    averaging_period = 0 # snapshots\n",
    "\n",
    "    def __init__(self, varname):\n",
    "        self.name_mask = self.name_mask.safe_substitute(dict(varname=varname))\n",
    "        self.varname = varname\n",
    "        self.variables = {\n",
    "                varname : OpenerVariable(varname), #can set any scale and offset here\n",
    "                }"
   ]
  },
  {
   "cell_type": "code",
   "execution_count": 32,
   "metadata": {},
   "outputs": [],
   "source": [
    "# get grid from Nextsim\n",
    "dto=dt.datetime(2013,2,1)\n",
    "\n",
    "# directory containing nextsim moorings\n",
    "path_in = '/cluster/work/users/rheinlender/breakup2013/outputs/breakup2013.ERA5.r10/Moorings_2013m02.nc'\n",
    "\n",
    "\n",
    "moorings = NetcdfList([path_in])\n"
   ]
  },
  {
   "cell_type": "code",
   "execution_count": 17,
   "metadata": {
    "collapsed": true
   },
   "outputs": [
    {
     "name": "stdout",
     "output_type": "stream",
     "text": [
      "Reading /cluster/projects/nn2993k/sim/mesh/medium_arctic_10km.msh...\n",
      "\n",
      "Finished reading /cluster/projects/nn2993k/sim/mesh/medium_arctic_10km.msh.\n",
      "\n"
     ]
    },
    {
     "ename": "TypeError",
     "evalue": "'numpy.float64' object cannot be interpreted as an integer",
     "output_type": "error",
     "traceback": [
      "\u001b[0;31m---------------------------------------------------------------------------\u001b[0m",
      "\u001b[0;31mTypeError\u001b[0m                                 Traceback (most recent call last)",
      "\u001b[0;32m<ipython-input-17-b040e41163c4>\u001b[0m in \u001b[0;36m<module>\u001b[0;34m\u001b[0m\n\u001b[1;32m      7\u001b[0m \u001b[0;31m# get target grid\u001b[0m\u001b[0;34m\u001b[0m\u001b[0;34m\u001b[0m\u001b[0;34m\u001b[0m\u001b[0m\n\u001b[1;32m      8\u001b[0m \u001b[0mgmsh\u001b[0m \u001b[0;34m=\u001b[0m \u001b[0mGmshMeshX\u001b[0m\u001b[0;34m(\u001b[0m\u001b[0mmeshfile\u001b[0m\u001b[0;34m)\u001b[0m\u001b[0;34m\u001b[0m\u001b[0;34m\u001b[0m\u001b[0m\n\u001b[0;32m----> 9\u001b[0;31m \u001b[0mgrid\u001b[0m \u001b[0;34m=\u001b[0m \u001b[0mgmsh\u001b[0m\u001b[0;34m.\u001b[0m\u001b[0mget_grid\u001b[0m\u001b[0;34m(\u001b[0m\u001b[0mresolution\u001b[0m\u001b[0;34m=\u001b[0m\u001b[0mplot_res\u001b[0m\u001b[0;34m*\u001b[0m\u001b[0;36m1000\u001b[0m\u001b[0;34m)\u001b[0m\u001b[0;34m\u001b[0m\u001b[0;34m\u001b[0m\u001b[0m\n\u001b[0m",
      "\u001b[0;32m<ipython-input-2-3583fd43caa0>\u001b[0m in \u001b[0;36mget_grid\u001b[0;34m(self, resolution)\u001b[0m\n\u001b[1;32m     20\u001b[0m                     \u001b[0mymax\u001b[0m \u001b[0;34m=\u001b[0m \u001b[0mself\u001b[0m\u001b[0;34m.\u001b[0m\u001b[0mboundary\u001b[0m\u001b[0;34m.\u001b[0m\u001b[0mymax\u001b[0m\u001b[0;34m,\u001b[0m\u001b[0;34m\u001b[0m\u001b[0;34m\u001b[0m\u001b[0m\n\u001b[1;32m     21\u001b[0m                     \u001b[0mnx\u001b[0m \u001b[0;34m=\u001b[0m \u001b[0mnp\u001b[0m\u001b[0;34m.\u001b[0m\u001b[0mceil\u001b[0m\u001b[0;34m(\u001b[0m\u001b[0;34m(\u001b[0m\u001b[0mself\u001b[0m\u001b[0;34m.\u001b[0m\u001b[0mboundary\u001b[0m\u001b[0;34m.\u001b[0m\u001b[0mxmax\u001b[0m \u001b[0;34m-\u001b[0m \u001b[0mself\u001b[0m\u001b[0;34m.\u001b[0m\u001b[0mboundary\u001b[0m\u001b[0;34m.\u001b[0m\u001b[0mxmin\u001b[0m\u001b[0;34m)\u001b[0m\u001b[0;34m/\u001b[0m\u001b[0mresolution\u001b[0m\u001b[0;34m)\u001b[0m\u001b[0;34m,\u001b[0m\u001b[0;34m\u001b[0m\u001b[0;34m\u001b[0m\u001b[0m\n\u001b[0;32m---> 22\u001b[0;31m                     \u001b[0mny\u001b[0m \u001b[0;34m=\u001b[0m \u001b[0mnp\u001b[0m\u001b[0;34m.\u001b[0m\u001b[0mceil\u001b[0m\u001b[0;34m(\u001b[0m\u001b[0;34m(\u001b[0m\u001b[0mself\u001b[0m\u001b[0;34m.\u001b[0m\u001b[0mboundary\u001b[0m\u001b[0;34m.\u001b[0m\u001b[0mymax\u001b[0m \u001b[0;34m-\u001b[0m \u001b[0mself\u001b[0m\u001b[0;34m.\u001b[0m\u001b[0mboundary\u001b[0m\u001b[0;34m.\u001b[0m\u001b[0mymin\u001b[0m\u001b[0;34m)\u001b[0m\u001b[0;34m/\u001b[0m\u001b[0mresolution\u001b[0m\u001b[0;34m)\u001b[0m\u001b[0;34m,\u001b[0m\u001b[0;34m\u001b[0m\u001b[0;34m\u001b[0m\u001b[0m\n\u001b[0m\u001b[1;32m     23\u001b[0m                     ))\n\u001b[1;32m     24\u001b[0m \u001b[0;34m\u001b[0m\u001b[0m\n",
      "\u001b[0;32m~/src/nextsim-tools/python/pynextsim/gridding.py\u001b[0m in \u001b[0;36minit_from_grid_params\u001b[0;34m(cls, grid_params, projection)\u001b[0m\n\u001b[1;32m    117\u001b[0m         \"\"\"\n\u001b[1;32m    118\u001b[0m         \u001b[0mself\u001b[0m \u001b[0;34m=\u001b[0m \u001b[0mcls\u001b[0m\u001b[0;34m.\u001b[0m\u001b[0m__new__\u001b[0m\u001b[0;34m(\u001b[0m\u001b[0mcls\u001b[0m\u001b[0;34m)\u001b[0m \u001b[0;31m# empty object\u001b[0m\u001b[0;34m\u001b[0m\u001b[0;34m\u001b[0m\u001b[0m\n\u001b[0;32m--> 119\u001b[0;31m         \u001b[0mpx\u001b[0m\u001b[0;34m,\u001b[0m \u001b[0mpy\u001b[0m \u001b[0;34m=\u001b[0m \u001b[0mself\u001b[0m\u001b[0;34m.\u001b[0m\u001b[0mmake_regular_grid\u001b[0m\u001b[0;34m(\u001b[0m\u001b[0mgrid_params\u001b[0m\u001b[0;34m)\u001b[0m\u001b[0;34m\u001b[0m\u001b[0;34m\u001b[0m\u001b[0m\n\u001b[0m\u001b[1;32m    120\u001b[0m         self.__init__(px, py, latlon=False,\n\u001b[1;32m    121\u001b[0m                 projection=projection)\n",
      "\u001b[0;32m~/src/nextsim-tools/python/pynextsim/gridding.py\u001b[0m in \u001b[0;36mmake_regular_grid\u001b[0;34m(self, grid_params)\u001b[0m\n\u001b[1;32m    175\u001b[0m         \u001b[0;31m# new corner pts qx, qy\u001b[0m\u001b[0;34m\u001b[0m\u001b[0;34m\u001b[0m\u001b[0;34m\u001b[0m\u001b[0m\n\u001b[1;32m    176\u001b[0m         \u001b[0;31m# new centre pts px, py\u001b[0m\u001b[0;34m\u001b[0m\u001b[0;34m\u001b[0m\u001b[0;34m\u001b[0m\u001b[0m\n\u001b[0;32m--> 177\u001b[0;31m         \u001b[0mqx\u001b[0m \u001b[0;34m=\u001b[0m \u001b[0mnp\u001b[0m\u001b[0;34m.\u001b[0m\u001b[0mlinspace\u001b[0m\u001b[0;34m(\u001b[0m\u001b[0mxmin\u001b[0m\u001b[0;34m,\u001b[0m \u001b[0mxmax\u001b[0m\u001b[0;34m,\u001b[0m \u001b[0mnx\u001b[0m\u001b[0;34m+\u001b[0m\u001b[0;36m1\u001b[0m\u001b[0;34m)\u001b[0m\u001b[0;34m\u001b[0m\u001b[0;34m\u001b[0m\u001b[0m\n\u001b[0m\u001b[1;32m    178\u001b[0m         \u001b[0mqy\u001b[0m \u001b[0;34m=\u001b[0m \u001b[0mnp\u001b[0m\u001b[0;34m.\u001b[0m\u001b[0mlinspace\u001b[0m\u001b[0;34m(\u001b[0m\u001b[0mymax\u001b[0m\u001b[0;34m,\u001b[0m \u001b[0mymin\u001b[0m\u001b[0;34m,\u001b[0m \u001b[0mny\u001b[0m\u001b[0;34m+\u001b[0m\u001b[0;36m1\u001b[0m\u001b[0;34m)\u001b[0m\u001b[0;34m\u001b[0m\u001b[0;34m\u001b[0m\u001b[0m\n\u001b[1;32m    179\u001b[0m         \u001b[0mpx\u001b[0m \u001b[0;34m=\u001b[0m \u001b[0;36m.5\u001b[0m\u001b[0;34m*\u001b[0m\u001b[0;34m(\u001b[0m\u001b[0mqx\u001b[0m\u001b[0;34m[\u001b[0m\u001b[0;36m1\u001b[0m\u001b[0;34m:\u001b[0m\u001b[0;34m]\u001b[0m\u001b[0;34m+\u001b[0m\u001b[0mqx\u001b[0m\u001b[0;34m[\u001b[0m\u001b[0;34m:\u001b[0m\u001b[0;34m-\u001b[0m\u001b[0;36m1\u001b[0m\u001b[0;34m]\u001b[0m\u001b[0;34m)\u001b[0m\u001b[0;34m\u001b[0m\u001b[0;34m\u001b[0m\u001b[0m\n",
      "\u001b[0;32m<__array_function__ internals>\u001b[0m in \u001b[0;36mlinspace\u001b[0;34m(*args, **kwargs)\u001b[0m\n",
      "\u001b[0;32m~/packages/miniconda3/envs/pynextsim/lib/python3.6/site-packages/numpy/core/function_base.py\u001b[0m in \u001b[0;36mlinspace\u001b[0;34m(start, stop, num, endpoint, retstep, dtype, axis)\u001b[0m\n\u001b[1;32m    111\u001b[0m \u001b[0;34m\u001b[0m\u001b[0m\n\u001b[1;32m    112\u001b[0m     \"\"\"\n\u001b[0;32m--> 113\u001b[0;31m     \u001b[0mnum\u001b[0m \u001b[0;34m=\u001b[0m \u001b[0moperator\u001b[0m\u001b[0;34m.\u001b[0m\u001b[0mindex\u001b[0m\u001b[0;34m(\u001b[0m\u001b[0mnum\u001b[0m\u001b[0;34m)\u001b[0m\u001b[0;34m\u001b[0m\u001b[0;34m\u001b[0m\u001b[0m\n\u001b[0m\u001b[1;32m    114\u001b[0m     \u001b[0;32mif\u001b[0m \u001b[0mnum\u001b[0m \u001b[0;34m<\u001b[0m \u001b[0;36m0\u001b[0m\u001b[0;34m:\u001b[0m\u001b[0;34m\u001b[0m\u001b[0;34m\u001b[0m\u001b[0m\n\u001b[1;32m    115\u001b[0m         \u001b[0;32mraise\u001b[0m \u001b[0mValueError\u001b[0m\u001b[0;34m(\u001b[0m\u001b[0;34m\"Number of samples, %s, must be non-negative.\"\u001b[0m \u001b[0;34m%\u001b[0m \u001b[0mnum\u001b[0m\u001b[0;34m)\u001b[0m\u001b[0;34m\u001b[0m\u001b[0;34m\u001b[0m\u001b[0m\n",
      "\u001b[0;31mTypeError\u001b[0m: 'numpy.float64' object cannot be interpreted as an integer"
     ]
    }
   ],
   "source": [
    "#should be inputs\n",
    "varname = 't2m'\n",
    "dto = dt.datetime(2013,1,1)\n",
    "meshfile = os.path.join(os.getenv('NEXTSIM_MESH_DIR'), 'medium_arctic_10km.msh')\n",
    "plot_res = 10 #km\n",
    "\n",
    "# get target grid\n",
    "gmsh = GmshMeshX(meshfile)\n",
    "grid = gmsh.get_grid(resolution=plot_res*1000)"
   ]
  },
  {
   "cell_type": "code",
   "execution_count": 34,
   "metadata": {},
   "outputs": [
    {
     "data": {
      "text/plain": [
       "{'t2m': <pynextsim.openers.OpenerVariable at 0x2b0e9f68ee10>}"
      ]
     },
     "execution_count": 34,
     "metadata": {},
     "output_type": "execute_result"
    }
   ],
   "source": [
    "#scalar field\n",
    "dto = dt.datetime(2013,2,1)\n",
    "varname='t2m'\n",
    "\n",
    "# get source file\n",
    "op = OpenerEra5(varname)\n",
    "f = op.find(dto) # filename for date if it exists\n",
    "nci = mnu.nc_getinfo(f)\n",
    "tind = nci.datetimes.index(dto)\n",
    "\n",
    "\n",
    "#data = grid.get_netcdf_data(nci, vlist=[varname], time_index=tind)[varname]\n",
    "#fig, ax = grid.plot(data, cmap='viridis', add_landmask=False)\n",
    "#ax.coastlines(resolution='50m')\n",
    "#fig.show()\n",
    "\n",
    "op.variables"
   ]
  },
  {
   "cell_type": "code",
   "execution_count": 39,
   "metadata": {},
   "outputs": [
    {
     "data": {
      "text/plain": [
       "<pynextsim.openers.OpenerVariable at 0x2b0e9f68ee10>"
      ]
     },
     "execution_count": 39,
     "metadata": {},
     "output_type": "execute_result"
    }
   ],
   "source": [
    "t2=op.variables['t2m']\n",
    "t2"
   ]
  },
  {
   "cell_type": "code",
   "execution_count": null,
   "metadata": {},
   "outputs": [],
   "source": [
    "\n",
    "    #wind\n",
    "    data = []\n",
    "    for varname in ['u10', 'v10']:\n",
    "        # get source file\n",
    "        op = OpenerEra5(varname)\n",
    "        f = op.find(dto) # filename for date if it exists\n",
    "        nci = mnu.nc_getinfo(f)\n",
    "        tind = nci.datetimes.index(dto)\n",
    "        data += [grid.get_netcdf_data(nci, vlist=[varname], time_index=tind)[varname]]\n",
    "\n",
    "    spd = np.hypot(*data) \n",
    "    fig, ax = grid.plot(spd, cmap='viridis', add_landmask=False)\n",
    "    ax.coastlines(resolution='50m')\n",
    "    x = grid.xy[0][::10,::10] \n",
    "    y = grid.xy[1][::10,::10]\n",
    "    u = data[0][::10,::10]\n",
    "    v = data[1][::10,::10]\n",
    "    u, v = nsl.rotate_lonlat2xy(grid.projection, x, y, u, v)\n",
    "    ax.quiver(x, y, u, v, units='xy', angles='xy', color='r')"
   ]
  },
  {
   "cell_type": "code",
   "execution_count": 16,
   "metadata": {},
   "outputs": [],
   "source": [
    "gmsh.get_grid?\n"
   ]
  }
 ],
 "metadata": {
  "kernelspec": {
   "display_name": "Python 3",
   "language": "python",
   "name": "python3"
  },
  "language_info": {
   "codemirror_mode": {
    "name": "ipython",
    "version": 3
   },
   "file_extension": ".py",
   "mimetype": "text/x-python",
   "name": "python",
   "nbconvert_exporter": "python",
   "pygments_lexer": "ipython3",
   "version": "3.6.11"
  }
 },
 "nbformat": 4,
 "nbformat_minor": 4
}
